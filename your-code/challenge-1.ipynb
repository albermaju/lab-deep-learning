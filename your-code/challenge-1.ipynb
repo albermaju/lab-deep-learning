{
 "cells": [
  {
   "cell_type": "markdown",
   "metadata": {},
   "source": [
    "# Challenge 1 - Tic Tac Toe\n",
    "\n",
    "In this lab you will perform deep learning analysis on a dataset of playing [Tic Tac Toe](https://en.wikipedia.org/wiki/Tic-tac-toe).\n",
    "\n",
    "There are 9 grids in Tic Tac Toe that are coded as the following picture shows:\n",
    "\n",
    "![Tic Tac Toe Grids](tttboard.jpg)\n",
    "\n",
    "In the first 9 columns of the dataset you can find which marks (`x` or `o`) exist in the grids. If there is no mark in a certain grid, it is labeled as `b`. The last column is `class` which tells you whether Player X (who always moves first in Tic Tac Toe) wins in this configuration. Note that when `class` has the value `False`, it means either Player O wins the game or it ends up as a draw."
   ]
  },
  {
   "cell_type": "markdown",
   "metadata": {},
   "source": [
    "Follow the steps suggested below to conduct a neural network analysis using Tensorflow and Keras. You will build a deep learning model to predict whether Player X wins the game or not.\n",
    "\n",
    "## Step 1: Data Engineering\n",
    "\n",
    "This dataset is almost in the ready-to-use state so you do not need to worry about missing values and so on. Still, some simple data engineering is needed.\n",
    "\n",
    "1. Read `tic-tac-toe.csv` into a dataframe.\n",
    "1. Inspect the dataset. Determine if the dataset is reliable by eyeballing the data.\n",
    "1. Convert the categorical values to numeric in all columns.\n",
    "1. Separate the inputs and output.\n",
    "1. Normalize the input data."
   ]
  },
  {
   "cell_type": "code",
   "execution_count": 8,
   "metadata": {},
   "outputs": [
    {
     "data": {
      "text/html": [
       "<div>\n",
       "<style scoped>\n",
       "    .dataframe tbody tr th:only-of-type {\n",
       "        vertical-align: middle;\n",
       "    }\n",
       "\n",
       "    .dataframe tbody tr th {\n",
       "        vertical-align: top;\n",
       "    }\n",
       "\n",
       "    .dataframe thead th {\n",
       "        text-align: right;\n",
       "    }\n",
       "</style>\n",
       "<table border=\"1\" class=\"dataframe\">\n",
       "  <thead>\n",
       "    <tr style=\"text-align: right;\">\n",
       "      <th></th>\n",
       "      <th>TL</th>\n",
       "      <th>TM</th>\n",
       "      <th>TR</th>\n",
       "      <th>ML</th>\n",
       "      <th>MM</th>\n",
       "      <th>MR</th>\n",
       "      <th>BL</th>\n",
       "      <th>BM</th>\n",
       "      <th>BR</th>\n",
       "      <th>class</th>\n",
       "    </tr>\n",
       "  </thead>\n",
       "  <tbody>\n",
       "    <tr>\n",
       "      <th>0</th>\n",
       "      <td>x</td>\n",
       "      <td>x</td>\n",
       "      <td>x</td>\n",
       "      <td>x</td>\n",
       "      <td>o</td>\n",
       "      <td>o</td>\n",
       "      <td>x</td>\n",
       "      <td>o</td>\n",
       "      <td>o</td>\n",
       "      <td>True</td>\n",
       "    </tr>\n",
       "    <tr>\n",
       "      <th>1</th>\n",
       "      <td>x</td>\n",
       "      <td>x</td>\n",
       "      <td>x</td>\n",
       "      <td>x</td>\n",
       "      <td>o</td>\n",
       "      <td>o</td>\n",
       "      <td>o</td>\n",
       "      <td>x</td>\n",
       "      <td>o</td>\n",
       "      <td>True</td>\n",
       "    </tr>\n",
       "    <tr>\n",
       "      <th>2</th>\n",
       "      <td>x</td>\n",
       "      <td>x</td>\n",
       "      <td>x</td>\n",
       "      <td>x</td>\n",
       "      <td>o</td>\n",
       "      <td>o</td>\n",
       "      <td>o</td>\n",
       "      <td>o</td>\n",
       "      <td>x</td>\n",
       "      <td>True</td>\n",
       "    </tr>\n",
       "    <tr>\n",
       "      <th>3</th>\n",
       "      <td>x</td>\n",
       "      <td>x</td>\n",
       "      <td>x</td>\n",
       "      <td>x</td>\n",
       "      <td>o</td>\n",
       "      <td>o</td>\n",
       "      <td>o</td>\n",
       "      <td>b</td>\n",
       "      <td>b</td>\n",
       "      <td>True</td>\n",
       "    </tr>\n",
       "    <tr>\n",
       "      <th>4</th>\n",
       "      <td>x</td>\n",
       "      <td>x</td>\n",
       "      <td>x</td>\n",
       "      <td>x</td>\n",
       "      <td>o</td>\n",
       "      <td>o</td>\n",
       "      <td>b</td>\n",
       "      <td>o</td>\n",
       "      <td>b</td>\n",
       "      <td>True</td>\n",
       "    </tr>\n",
       "  </tbody>\n",
       "</table>\n",
       "</div>"
      ],
      "text/plain": [
       "  TL TM TR ML MM MR BL BM BR  class\n",
       "0  x  x  x  x  o  o  x  o  o   True\n",
       "1  x  x  x  x  o  o  o  x  o   True\n",
       "2  x  x  x  x  o  o  o  o  x   True\n",
       "3  x  x  x  x  o  o  o  b  b   True\n",
       "4  x  x  x  x  o  o  b  o  b   True"
      ]
     },
     "execution_count": 8,
     "metadata": {},
     "output_type": "execute_result"
    }
   ],
   "source": [
    "# your code here\n",
    "import pandas as pd\n",
    "import numpy as np\n",
    "\n",
    "tictactoe = pd.read_csv('tic-tac-toe.csv')\n",
    "tictactoe.head()"
   ]
  },
  {
   "cell_type": "code",
   "execution_count": 9,
   "metadata": {},
   "outputs": [
    {
     "name": "stdout",
     "output_type": "stream",
     "text": [
      "<class 'pandas.core.frame.DataFrame'>\n",
      "RangeIndex: 958 entries, 0 to 957\n",
      "Data columns (total 10 columns):\n",
      " #   Column  Non-Null Count  Dtype \n",
      "---  ------  --------------  ----- \n",
      " 0   TL      958 non-null    object\n",
      " 1   TM      958 non-null    object\n",
      " 2   TR      958 non-null    object\n",
      " 3   ML      958 non-null    object\n",
      " 4   MM      958 non-null    object\n",
      " 5   MR      958 non-null    object\n",
      " 6   BL      958 non-null    object\n",
      " 7   BM      958 non-null    object\n",
      " 8   BR      958 non-null    object\n",
      " 9   class   958 non-null    bool  \n",
      "dtypes: bool(1), object(9)\n",
      "memory usage: 68.4+ KB\n"
     ]
    }
   ],
   "source": [
    "tictactoe.info()\n"
   ]
  },
  {
   "cell_type": "code",
   "execution_count": 4,
   "metadata": {},
   "outputs": [],
   "source": []
  },
  {
   "cell_type": "code",
   "execution_count": 13,
   "metadata": {},
   "outputs": [
    {
     "data": {
      "text/html": [
       "<div>\n",
       "<style scoped>\n",
       "    .dataframe tbody tr th:only-of-type {\n",
       "        vertical-align: middle;\n",
       "    }\n",
       "\n",
       "    .dataframe tbody tr th {\n",
       "        vertical-align: top;\n",
       "    }\n",
       "\n",
       "    .dataframe thead th {\n",
       "        text-align: right;\n",
       "    }\n",
       "</style>\n",
       "<table border=\"1\" class=\"dataframe\">\n",
       "  <thead>\n",
       "    <tr style=\"text-align: right;\">\n",
       "      <th></th>\n",
       "      <th>TL</th>\n",
       "      <th>TM</th>\n",
       "      <th>TR</th>\n",
       "      <th>ML</th>\n",
       "      <th>MM</th>\n",
       "      <th>MR</th>\n",
       "      <th>BL</th>\n",
       "      <th>BM</th>\n",
       "      <th>BR</th>\n",
       "      <th>class</th>\n",
       "    </tr>\n",
       "  </thead>\n",
       "  <tbody>\n",
       "    <tr>\n",
       "      <th>0</th>\n",
       "      <td>0</td>\n",
       "      <td>0</td>\n",
       "      <td>0</td>\n",
       "      <td>0</td>\n",
       "      <td>1</td>\n",
       "      <td>1</td>\n",
       "      <td>0</td>\n",
       "      <td>1</td>\n",
       "      <td>1</td>\n",
       "      <td>True</td>\n",
       "    </tr>\n",
       "    <tr>\n",
       "      <th>1</th>\n",
       "      <td>0</td>\n",
       "      <td>0</td>\n",
       "      <td>0</td>\n",
       "      <td>0</td>\n",
       "      <td>1</td>\n",
       "      <td>1</td>\n",
       "      <td>1</td>\n",
       "      <td>0</td>\n",
       "      <td>1</td>\n",
       "      <td>True</td>\n",
       "    </tr>\n",
       "    <tr>\n",
       "      <th>2</th>\n",
       "      <td>0</td>\n",
       "      <td>0</td>\n",
       "      <td>0</td>\n",
       "      <td>0</td>\n",
       "      <td>1</td>\n",
       "      <td>1</td>\n",
       "      <td>1</td>\n",
       "      <td>1</td>\n",
       "      <td>0</td>\n",
       "      <td>True</td>\n",
       "    </tr>\n",
       "    <tr>\n",
       "      <th>3</th>\n",
       "      <td>0</td>\n",
       "      <td>0</td>\n",
       "      <td>0</td>\n",
       "      <td>0</td>\n",
       "      <td>1</td>\n",
       "      <td>1</td>\n",
       "      <td>1</td>\n",
       "      <td>-1</td>\n",
       "      <td>-1</td>\n",
       "      <td>True</td>\n",
       "    </tr>\n",
       "    <tr>\n",
       "      <th>4</th>\n",
       "      <td>0</td>\n",
       "      <td>0</td>\n",
       "      <td>0</td>\n",
       "      <td>0</td>\n",
       "      <td>1</td>\n",
       "      <td>1</td>\n",
       "      <td>-1</td>\n",
       "      <td>1</td>\n",
       "      <td>-1</td>\n",
       "      <td>True</td>\n",
       "    </tr>\n",
       "  </tbody>\n",
       "</table>\n",
       "</div>"
      ],
      "text/plain": [
       "   TL  TM  TR  ML  MM  MR  BL  BM  BR  class\n",
       "0   0   0   0   0   1   1   0   1   1   True\n",
       "1   0   0   0   0   1   1   1   0   1   True\n",
       "2   0   0   0   0   1   1   1   1   0   True\n",
       "3   0   0   0   0   1   1   1  -1  -1   True\n",
       "4   0   0   0   0   1   1  -1   1  -1   True"
      ]
     },
     "execution_count": 13,
     "metadata": {},
     "output_type": "execute_result"
    }
   ],
   "source": [
    "tictactoe = tictactoe.replace({'x':0,'o':1,'b':-1})\n",
    "    \n",
    "tictactoe.head()"
   ]
  },
  {
   "cell_type": "code",
   "execution_count": 14,
   "metadata": {},
   "outputs": [
    {
     "data": {
      "text/plain": [
       "array([[0.5, 0.5, 0.5, ..., 0.5, 1. , 1. ],\n",
       "       [0.5, 0.5, 0.5, ..., 1. , 0.5, 1. ],\n",
       "       [0.5, 0.5, 0.5, ..., 1. , 1. , 0.5],\n",
       "       ...,\n",
       "       [1. , 0.5, 1. , ..., 0.5, 1. , 0.5],\n",
       "       [1. , 0.5, 1. , ..., 0.5, 1. , 0.5],\n",
       "       [1. , 1. , 0.5, ..., 1. , 0.5, 0.5]])"
      ]
     },
     "execution_count": 14,
     "metadata": {},
     "output_type": "execute_result"
    }
   ],
   "source": [
    "from sklearn.preprocessing import MinMaxScaler \n",
    "\n",
    "tic_X= tictactoe.drop(columns='class',axis=1)\n",
    "tic_y=tictactoe['class']\n",
    "normalizer = MinMaxScaler()\n",
    "normalizer = normalizer.fit(tic_X)\n",
    "tic_X_normalized = normalizer.transform(tic_X) \n",
    "tic_X_normalized"
   ]
  },
  {
   "cell_type": "markdown",
   "metadata": {},
   "source": [
    "## Step 2: Build Neural Network\n",
    "\n",
    "To build the neural network, you can refer to your own codes you wrote while following the [Deep Learning with Python, TensorFlow, and Keras tutorial](https://www.youtube.com/watch?v=wQ8BIBpya2k) in the lesson. It's pretty similar to what you will be doing in this lab.\n",
    "\n",
    "1. Split the training and test data.\n",
    "1. Create a `Sequential` model.\n",
    "1. Add several layers to your model. Make sure you use ReLU as the activation function for the middle layers. Use Softmax for the output layer because each output has a single lable and all the label probabilities add up to 1.\n",
    "1. Compile the model using `adam` as the optimizer and `sparse_categorical_crossentropy` as the loss function. For metrics, use `accuracy` for now.\n",
    "1. Fit the training data.\n",
    "1. Evaluate your neural network model with the test data.\n",
    "1. Save your model as `tic-tac-toe.model`."
   ]
  },
  {
   "cell_type": "code",
   "execution_count": 20,
   "metadata": {},
   "outputs": [
    {
     "name": "stdout",
     "output_type": "stream",
     "text": [
      "Epoch 1/5\n",
      "23/23 [==============================] - 1s 1ms/step - loss: 0.6942 - accuracy: 0.5501\n",
      "Epoch 2/5\n",
      "23/23 [==============================] - 0s 2ms/step - loss: 0.6632 - accuracy: 0.6462\n",
      "Epoch 3/5\n",
      "23/23 [==============================] - 0s 918us/step - loss: 0.6466 - accuracy: 0.6560\n",
      "Epoch 4/5\n",
      "23/23 [==============================] - 0s 2ms/step - loss: 0.6398 - accuracy: 0.6560\n",
      "Epoch 5/5\n",
      "23/23 [==============================] - 0s 206us/step - loss: 0.6385 - accuracy: 0.6560\n",
      "8/8 [==============================] - 0s 2ms/step - loss: 0.6290 - accuracy: 0.6458\n"
     ]
    },
    {
     "data": {
      "text/plain": [
       "[0.6289590001106262, 0.6458333134651184]"
      ]
     },
     "execution_count": 20,
     "metadata": {},
     "output_type": "execute_result"
    }
   ],
   "source": [
    "# your code here\n",
    "from tensorflow.keras.models import Sequential\n",
    "from tensorflow.keras.layers import Dense\n",
    "from tensorflow.keras.utils import to_categorical\n",
    "from tensorflow.keras.models import Sequential\n",
    "from sklearn.model_selection import train_test_split\n",
    "\n",
    "x_train, x_test, y_train, y_test = train_test_split(tic_X_normalized, tic_y)\n",
    "\n",
    "model = Sequential([\n",
    "  Dense(10, activation='relu', input_shape=(9,)), \n",
    "  Dense(10, activation='relu'),      \n",
    "  Dense(2, activation='softmax'),   \n",
    "])\n",
    "\n",
    "model.compile(\n",
    "  optimizer='adam', \n",
    "  loss='categorical_crossentropy', \n",
    "  metrics=['accuracy'],\n",
    ")\n",
    "\n",
    "history = model.fit(\n",
    "  x_train,\n",
    "  to_categorical(y_train),\n",
    "  epochs=5, \n",
    "  batch_size=32, \n",
    ")\n",
    "\n",
    "model.evaluate(\n",
    "  x_test,\n",
    "  to_categorical(y_test)\n",
    ")"
   ]
  },
  {
   "cell_type": "markdown",
   "metadata": {},
   "source": [
    "## Step 3: Make Predictions\n",
    "\n",
    "Now load your saved model and use it to make predictions on a few random rows in the test dataset. Check if the predictions are correct."
   ]
  },
  {
   "cell_type": "code",
   "execution_count": 21,
   "metadata": {},
   "outputs": [
    {
     "name": "stdout",
     "output_type": "stream",
     "text": [
      "1/1 [==============================] - 0s 98ms/step\n",
      "[1 1 1 1 1 1 1 1 1 1]\n"
     ]
    }
   ],
   "source": [
    "# your code here\n",
    "predictions = model.predict(x_test[:10])\n",
    "print(np.argmax(predictions, axis=1)) "
   ]
  },
  {
   "cell_type": "code",
   "execution_count": 22,
   "metadata": {},
   "outputs": [
    {
     "data": {
      "text/plain": [
       "748    False\n",
       "373     True\n",
       "40      True\n",
       "956    False\n",
       "169     True\n",
       "598     True\n",
       "158     True\n",
       "521     True\n",
       "364     True\n",
       "388     True\n",
       "Name: class, dtype: bool"
      ]
     },
     "execution_count": 22,
     "metadata": {},
     "output_type": "execute_result"
    }
   ],
   "source": [
    "y_test[:10]"
   ]
  },
  {
   "cell_type": "markdown",
   "metadata": {},
   "source": [
    "## Step 4: Improve Your Model\n",
    "\n",
    "Did your model achieve low loss (<0.1) and high accuracy (>0.95)? If not, try to improve your model.\n",
    "\n",
    "But how? There are so many things you can play with in Tensorflow and in the next challenge you'll learn about these things. But in this challenge, let's just do a few things to see if they will help.\n",
    "\n",
    "* Add more layers to your model. If the data are complex you need more layers. But don't use more layers than you need. If adding more layers does not improve the model performance you don't need additional layers.\n",
    "* Adjust the learning rate when you compile the model. This means you will create a custom `tf.keras.optimizers.Adam` instance where you specify the learning rate you want. Then pass the instance to `model.compile` as the optimizer.\n",
    "    * `tf.keras.optimizers.Adam` [reference](https://www.tensorflow.org/api_docs/python/tf/keras/optimizers/Adam).\n",
    "    * Don't worry if you don't understand what the learning rate does. You'll learn about it in the next challenge.\n",
    "* Adjust the number of epochs when you fit the training data to the model. Your model performance continues to improve as you train more epochs. But eventually it will reach the ceiling and the performance will stay the same."
   ]
  },
  {
   "cell_type": "code",
   "execution_count": 25,
   "metadata": {},
   "outputs": [
    {
     "name": "stdout",
     "output_type": "stream",
     "text": [
      "Epoch 1/50\n",
      "718/718 [==============================] - 1s 1ms/step - loss: 0.6538 - accuracy: 0.6574\n",
      "Epoch 2/50\n",
      "718/718 [==============================] - 1s 1ms/step - loss: 0.6318 - accuracy: 0.6560\n",
      "Epoch 3/50\n",
      "718/718 [==============================] - 1s 1ms/step - loss: 0.6121 - accuracy: 0.6574\n",
      "Epoch 4/50\n",
      "718/718 [==============================] - 1s 913us/step - loss: 0.5947 - accuracy: 0.6616\n",
      "Epoch 5/50\n",
      "718/718 [==============================] - 1s 966us/step - loss: 0.5716 - accuracy: 0.6643\n",
      "Epoch 6/50\n",
      "718/718 [==============================] - 1s 938us/step - loss: 0.5547 - accuracy: 0.6866\n",
      "Epoch 7/50\n",
      "718/718 [==============================] - 1s 986us/step - loss: 0.5401 - accuracy: 0.6936\n",
      "Epoch 8/50\n",
      "718/718 [==============================] - 1s 970us/step - loss: 0.5242 - accuracy: 0.7047\n",
      "Epoch 9/50\n",
      "718/718 [==============================] - 1s 966us/step - loss: 0.5175 - accuracy: 0.7187\n",
      "Epoch 10/50\n",
      "718/718 [==============================] - 1s 960us/step - loss: 0.5095 - accuracy: 0.7187\n",
      "Epoch 11/50\n",
      "718/718 [==============================] - 1s 1ms/step - loss: 0.4961 - accuracy: 0.7298\n",
      "Epoch 12/50\n",
      "718/718 [==============================] - 1s 935us/step - loss: 0.4952 - accuracy: 0.7326\n",
      "Epoch 13/50\n",
      "718/718 [==============================] - 1s 1ms/step - loss: 0.4852 - accuracy: 0.7382\n",
      "Epoch 14/50\n",
      "718/718 [==============================] - 1s 943us/step - loss: 0.4876 - accuracy: 0.7298\n",
      "Epoch 15/50\n",
      "718/718 [==============================] - 1s 968us/step - loss: 0.4773 - accuracy: 0.7451\n",
      "Epoch 16/50\n",
      "718/718 [==============================] - 1s 967us/step - loss: 0.4759 - accuracy: 0.7326\n",
      "Epoch 17/50\n",
      "718/718 [==============================] - 1s 891us/step - loss: 0.4688 - accuracy: 0.7423\n",
      "Epoch 18/50\n",
      "718/718 [==============================] - 1s 924us/step - loss: 0.4645 - accuracy: 0.7521\n",
      "Epoch 19/50\n",
      "718/718 [==============================] - 1s 908us/step - loss: 0.4550 - accuracy: 0.7409\n",
      "Epoch 20/50\n",
      "718/718 [==============================] - 1s 944us/step - loss: 0.4596 - accuracy: 0.7479\n",
      "Epoch 21/50\n",
      "718/718 [==============================] - 1s 959us/step - loss: 0.4530 - accuracy: 0.7604\n",
      "Epoch 22/50\n",
      "718/718 [==============================] - 1s 964us/step - loss: 0.4477 - accuracy: 0.7618\n",
      "Epoch 23/50\n",
      "718/718 [==============================] - 1s 1ms/step - loss: 0.4420 - accuracy: 0.7674\n",
      "Epoch 24/50\n",
      "718/718 [==============================] - 1s 898us/step - loss: 0.4420 - accuracy: 0.7716\n",
      "Epoch 25/50\n",
      "718/718 [==============================] - 1s 906us/step - loss: 0.4357 - accuracy: 0.7716\n",
      "Epoch 26/50\n",
      "718/718 [==============================] - 1s 987us/step - loss: 0.4375 - accuracy: 0.7660\n",
      "Epoch 27/50\n",
      "718/718 [==============================] - 1s 894us/step - loss: 0.4399 - accuracy: 0.7535\n",
      "Epoch 28/50\n",
      "718/718 [==============================] - 1s 992us/step - loss: 0.4306 - accuracy: 0.7702\n",
      "Epoch 29/50\n",
      "718/718 [==============================] - 1s 1ms/step - loss: 0.4307 - accuracy: 0.7646\n",
      "Epoch 30/50\n",
      "718/718 [==============================] - 1s 960us/step - loss: 0.4272 - accuracy: 0.7772\n",
      "Epoch 31/50\n",
      "718/718 [==============================] - 1s 950us/step - loss: 0.4229 - accuracy: 0.7716\n",
      "Epoch 32/50\n",
      "718/718 [==============================] - 1s 916us/step - loss: 0.4182 - accuracy: 0.7758\n",
      "Epoch 33/50\n",
      "718/718 [==============================] - 1s 900us/step - loss: 0.4152 - accuracy: 0.7744\n",
      "Epoch 34/50\n",
      "718/718 [==============================] - 1s 915us/step - loss: 0.4120 - accuracy: 0.7813\n",
      "Epoch 35/50\n",
      "718/718 [==============================] - 1s 1ms/step - loss: 0.4060 - accuracy: 0.7813\n",
      "Epoch 36/50\n",
      "718/718 [==============================] - 1s 915us/step - loss: 0.4098 - accuracy: 0.7911\n",
      "Epoch 37/50\n",
      "718/718 [==============================] - 1s 931us/step - loss: 0.4021 - accuracy: 0.7883\n",
      "Epoch 38/50\n",
      "718/718 [==============================] - 1s 944us/step - loss: 0.4047 - accuracy: 0.7869\n",
      "Epoch 39/50\n",
      "718/718 [==============================] - 1s 1ms/step - loss: 0.4015 - accuracy: 0.7897\n",
      "Epoch 40/50\n",
      "718/718 [==============================] - 1s 986us/step - loss: 0.3967 - accuracy: 0.7869\n",
      "Epoch 41/50\n",
      "718/718 [==============================] - 1s 905us/step - loss: 0.3944 - accuracy: 0.7953\n",
      "Epoch 42/50\n",
      "718/718 [==============================] - 1s 921us/step - loss: 0.3918 - accuracy: 0.7953\n",
      "Epoch 43/50\n",
      "718/718 [==============================] - 1s 952us/step - loss: 0.3892 - accuracy: 0.8022\n",
      "Epoch 44/50\n",
      "718/718 [==============================] - 1s 917us/step - loss: 0.3890 - accuracy: 0.7981\n",
      "Epoch 45/50\n",
      "718/718 [==============================] - 1s 913us/step - loss: 0.3856 - accuracy: 0.8036\n",
      "Epoch 46/50\n",
      "718/718 [==============================] - 1s 1ms/step - loss: 0.3879 - accuracy: 0.8008\n",
      "Epoch 47/50\n",
      "718/718 [==============================] - 1s 935us/step - loss: 0.3860 - accuracy: 0.7953\n",
      "Epoch 48/50\n",
      "718/718 [==============================] - 1s 897us/step - loss: 0.3866 - accuracy: 0.8022\n",
      "Epoch 49/50\n",
      "718/718 [==============================] - 1s 987us/step - loss: 0.3789 - accuracy: 0.8064\n",
      "Epoch 50/50\n",
      "718/718 [==============================] - 1s 986us/step - loss: 0.3791 - accuracy: 0.8120\n",
      "8/8 [==============================] - 0s 0s/step - loss: 0.4337 - accuracy: 0.7792\n"
     ]
    },
    {
     "data": {
      "text/plain": [
       "[0.4337320029735565, 0.7791666388511658]"
      ]
     },
     "execution_count": 25,
     "metadata": {},
     "output_type": "execute_result"
    }
   ],
   "source": [
    "# your code here\n",
    "from tensorflow.keras.optimizers import Adam\n",
    "import tensorflow as tf\n",
    "\n",
    "tictactoe_model = Sequential([\n",
    "  Dense(10, activation='relu'),\n",
    "  Dense(10, activation='relu'),\n",
    "  Dense(2, activation='softmax'),   \n",
    "])\n",
    "\n",
    "opt = tf.keras.optimizers.Adam(\n",
    "    learning_rate=0.001,\n",
    "    beta_1=0.9,\n",
    "    beta_2=0.999,\n",
    "    epsilon=1e-07,\n",
    "    amsgrad=False,\n",
    "    name='Adam'\n",
    ")\n",
    "\n",
    "\n",
    "tictactoe_model.compile(\n",
    "  optimizer=opt,\n",
    "  loss='sparse_categorical_crossentropy',\n",
    "  metrics=['accuracy'],\n",
    ")\n",
    "\n",
    "history = tictactoe_model.fit(\n",
    "  x_train,\n",
    "  y_train,\n",
    "  epochs=50,\n",
    "  batch_size=1,\n",
    ")\n",
    "\n",
    "tictactoe_model.evaluate(\n",
    "  x_test,\n",
    "  y_test\n",
    ")"
   ]
  },
  {
   "cell_type": "markdown",
   "metadata": {},
   "source": [
    "**Which approach(es) did you find helpful to improve your model performance?**"
   ]
  },
  {
   "cell_type": "code",
   "execution_count": null,
   "metadata": {},
   "outputs": [],
   "source": [
    "# your answer here\n",
    "#Adding epoch, reduce batch size and elevate relu."
   ]
  }
 ],
 "metadata": {
  "kernelspec": {
   "display_name": "Python 3.9.7",
   "language": "python",
   "name": "python3"
  },
  "language_info": {
   "codemirror_mode": {
    "name": "ipython",
    "version": 3
   },
   "file_extension": ".py",
   "mimetype": "text/x-python",
   "name": "python",
   "nbconvert_exporter": "python",
   "pygments_lexer": "ipython3",
   "version": "3.9.7"
  },
  "vscode": {
   "interpreter": {
    "hash": "17c695474dc7255d001f177524443d02756d3925741c791a24ccef519630cd63"
   }
  }
 },
 "nbformat": 4,
 "nbformat_minor": 2
}
